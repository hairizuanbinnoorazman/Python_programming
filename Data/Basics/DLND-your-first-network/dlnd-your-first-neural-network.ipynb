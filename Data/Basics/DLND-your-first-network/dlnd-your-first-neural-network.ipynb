{
 "cells": [
  {
   "cell_type": "markdown",
   "metadata": {},
   "source": [
    "# Your first neural network\n",
    "\n",
    "In this project, you'll build your first neural network and use it to predict daily bike rental ridership. We've provided some of the code, but left the implementation of the neural network up to you (for the most part). After you've submitted this project, feel free to explore the data and the model more.\n",
    "\n"
   ]
  },
  {
   "cell_type": "code",
   "execution_count": 3,
   "metadata": {
    "collapsed": false
   },
   "outputs": [],
   "source": [
    "%matplotlib inline\n",
    "%config InlineBackend.figure_format = 'retina'\n",
    "\n",
    "import numpy as np\n",
    "import pandas as pd\n",
    "import matplotlib.pyplot as plt"
   ]
  },
  {
   "cell_type": "markdown",
   "metadata": {},
   "source": [
    "## Load and prepare the data\n",
    "\n",
    "A critical step in working with neural networks is preparing the data correctly. Variables on different scales make it difficult for the network to efficiently learn the correct weights. Below, we've written the code to load and prepare the data. You'll learn more about this soon!"
   ]
  },
  {
   "cell_type": "code",
   "execution_count": 4,
   "metadata": {
    "collapsed": false
   },
   "outputs": [],
   "source": [
    "data_path = 'Bike-Sharing-Dataset/hour.csv'\n",
    "\n",
    "rides = pd.read_csv(data_path)"
   ]
  },
  {
   "cell_type": "code",
   "execution_count": 5,
   "metadata": {
    "collapsed": false
   },
   "outputs": [
    {
     "data": {
      "text/html": [
       "<div>\n",
       "<table border=\"1\" class=\"dataframe\">\n",
       "  <thead>\n",
       "    <tr style=\"text-align: right;\">\n",
       "      <th></th>\n",
       "      <th>instant</th>\n",
       "      <th>dteday</th>\n",
       "      <th>season</th>\n",
       "      <th>yr</th>\n",
       "      <th>mnth</th>\n",
       "      <th>hr</th>\n",
       "      <th>holiday</th>\n",
       "      <th>weekday</th>\n",
       "      <th>workingday</th>\n",
       "      <th>weathersit</th>\n",
       "      <th>temp</th>\n",
       "      <th>atemp</th>\n",
       "      <th>hum</th>\n",
       "      <th>windspeed</th>\n",
       "      <th>casual</th>\n",
       "      <th>registered</th>\n",
       "      <th>cnt</th>\n",
       "    </tr>\n",
       "  </thead>\n",
       "  <tbody>\n",
       "    <tr>\n",
       "      <th>0</th>\n",
       "      <td>1</td>\n",
       "      <td>2011-01-01</td>\n",
       "      <td>1</td>\n",
       "      <td>0</td>\n",
       "      <td>1</td>\n",
       "      <td>0</td>\n",
       "      <td>0</td>\n",
       "      <td>6</td>\n",
       "      <td>0</td>\n",
       "      <td>1</td>\n",
       "      <td>0.24</td>\n",
       "      <td>0.2879</td>\n",
       "      <td>0.81</td>\n",
       "      <td>0.0</td>\n",
       "      <td>3</td>\n",
       "      <td>13</td>\n",
       "      <td>16</td>\n",
       "    </tr>\n",
       "    <tr>\n",
       "      <th>1</th>\n",
       "      <td>2</td>\n",
       "      <td>2011-01-01</td>\n",
       "      <td>1</td>\n",
       "      <td>0</td>\n",
       "      <td>1</td>\n",
       "      <td>1</td>\n",
       "      <td>0</td>\n",
       "      <td>6</td>\n",
       "      <td>0</td>\n",
       "      <td>1</td>\n",
       "      <td>0.22</td>\n",
       "      <td>0.2727</td>\n",
       "      <td>0.80</td>\n",
       "      <td>0.0</td>\n",
       "      <td>8</td>\n",
       "      <td>32</td>\n",
       "      <td>40</td>\n",
       "    </tr>\n",
       "    <tr>\n",
       "      <th>2</th>\n",
       "      <td>3</td>\n",
       "      <td>2011-01-01</td>\n",
       "      <td>1</td>\n",
       "      <td>0</td>\n",
       "      <td>1</td>\n",
       "      <td>2</td>\n",
       "      <td>0</td>\n",
       "      <td>6</td>\n",
       "      <td>0</td>\n",
       "      <td>1</td>\n",
       "      <td>0.22</td>\n",
       "      <td>0.2727</td>\n",
       "      <td>0.80</td>\n",
       "      <td>0.0</td>\n",
       "      <td>5</td>\n",
       "      <td>27</td>\n",
       "      <td>32</td>\n",
       "    </tr>\n",
       "    <tr>\n",
       "      <th>3</th>\n",
       "      <td>4</td>\n",
       "      <td>2011-01-01</td>\n",
       "      <td>1</td>\n",
       "      <td>0</td>\n",
       "      <td>1</td>\n",
       "      <td>3</td>\n",
       "      <td>0</td>\n",
       "      <td>6</td>\n",
       "      <td>0</td>\n",
       "      <td>1</td>\n",
       "      <td>0.24</td>\n",
       "      <td>0.2879</td>\n",
       "      <td>0.75</td>\n",
       "      <td>0.0</td>\n",
       "      <td>3</td>\n",
       "      <td>10</td>\n",
       "      <td>13</td>\n",
       "    </tr>\n",
       "    <tr>\n",
       "      <th>4</th>\n",
       "      <td>5</td>\n",
       "      <td>2011-01-01</td>\n",
       "      <td>1</td>\n",
       "      <td>0</td>\n",
       "      <td>1</td>\n",
       "      <td>4</td>\n",
       "      <td>0</td>\n",
       "      <td>6</td>\n",
       "      <td>0</td>\n",
       "      <td>1</td>\n",
       "      <td>0.24</td>\n",
       "      <td>0.2879</td>\n",
       "      <td>0.75</td>\n",
       "      <td>0.0</td>\n",
       "      <td>0</td>\n",
       "      <td>1</td>\n",
       "      <td>1</td>\n",
       "    </tr>\n",
       "  </tbody>\n",
       "</table>\n",
       "</div>"
      ],
      "text/plain": [
       "   instant      dteday  season  yr  mnth  hr  holiday  weekday  workingday  \\\n",
       "0        1  2011-01-01       1   0     1   0        0        6           0   \n",
       "1        2  2011-01-01       1   0     1   1        0        6           0   \n",
       "2        3  2011-01-01       1   0     1   2        0        6           0   \n",
       "3        4  2011-01-01       1   0     1   3        0        6           0   \n",
       "4        5  2011-01-01       1   0     1   4        0        6           0   \n",
       "\n",
       "   weathersit  temp   atemp   hum  windspeed  casual  registered  cnt  \n",
       "0           1  0.24  0.2879  0.81        0.0       3          13   16  \n",
       "1           1  0.22  0.2727  0.80        0.0       8          32   40  \n",
       "2           1  0.22  0.2727  0.80        0.0       5          27   32  \n",
       "3           1  0.24  0.2879  0.75        0.0       3          10   13  \n",
       "4           1  0.24  0.2879  0.75        0.0       0           1    1  "
      ]
     },
     "execution_count": 5,
     "metadata": {},
     "output_type": "execute_result"
    }
   ],
   "source": [
    "rides.head()"
   ]
  },
  {
   "cell_type": "markdown",
   "metadata": {},
   "source": [
    "## Checking out the data\n",
    "\n",
    "This dataset has the number of riders for each hour of each day from January 1 2011 to December 31 2012. The number of riders is split between casual and registered, summed up in the `cnt` column. You can see the first few rows of the data above.\n",
    "\n",
    "Below is a plot showing the number of bike riders over the first 10 days in the data set. You can see the hourly rentals here. This data is pretty complicated! The weekends have lower over all ridership and there are spikes when people are biking to and from work during the week. Looking at the data above, we also have information about temperature, humidity, and windspeed, all of these likely affecting the number of riders. You'll be trying to capture all this with your model."
   ]
  },
  {
   "cell_type": "code",
   "execution_count": 6,
   "metadata": {
    "collapsed": false
   },
   "outputs": [
    {
     "data": {
      "text/plain": [
       "<matplotlib.axes._subplots.AxesSubplot at 0x7ffa3b4500b8>"
      ]
     },
     "execution_count": 6,
     "metadata": {},
     "output_type": "execute_result"
    },
    {
     "data": {
      "image/png": "[encoded data removed]",
      "text/plain": [
       "<matplotlib.figure.Figure at 0x7ffa3b450828>"
      ]
     },
     "metadata": {
      "image/png": {
       "height": 263,
       "width": 380
      }
     },
     "output_type": "display_data"
    }
   ],
   "source": [
    "rides[:24*10].plot(x='dteday', y='cnt')"
   ]
  },
  {
   "cell_type": "markdown",
   "metadata": {},
   "source": [
    "### Dummy variables\n",
    "Here we have some categorical variables like season, weather, month. To include these in our model, we'll need to make binary dummy variables. This is simple to do with Pandas thanks to `get_dummies()`."
   ]
  },
  {
   "cell_type": "code",
   "execution_count": 7,
   "metadata": {
    "collapsed": false
   },
   "outputs": [
    {
     "data": {
      "text/html": [
       "<div>\n",
       "<table border=\"1\" class=\"dataframe\">\n",
       "  <thead>\n",
       "    <tr style=\"text-align: right;\">\n",
       "      <th></th>\n",
       "      <th>yr</th>\n",
       "      <th>holiday</th>\n",
       "      <th>temp</th>\n",
       "      <th>hum</th>\n",
       "      <th>windspeed</th>\n",
       "      <th>casual</th>\n",
       "      <th>registered</th>\n",
       "      <th>cnt</th>\n",
       "      <th>season_1</th>\n",
       "      <th>season_2</th>\n",
       "      <th>...</th>\n",
       "      <th>hr_21</th>\n",
       "      <th>hr_22</th>\n",
       "      <th>hr_23</th>\n",
       "      <th>weekday_0</th>\n",
       "      <th>weekday_1</th>\n",
       "      <th>weekday_2</th>\n",
       "      <th>weekday_3</th>\n",
       "      <th>weekday_4</th>\n",
       "      <th>weekday_5</th>\n",
       "      <th>weekday_6</th>\n",
       "    </tr>\n",
       "  </thead>\n",
       "  <tbody>\n",
       "    <tr>\n",
       "      <th>0</th>\n",
       "      <td>0</td>\n",
       "      <td>0</td>\n",
       "      <td>0.24</td>\n",
       "      <td>0.81</td>\n",
       "      <td>0.0</td>\n",
       "      <td>3</td>\n",
       "      <td>13</td>\n",
       "      <td>16</td>\n",
       "      <td>1</td>\n",
       "      <td>0</td>\n",
       "      <td>...</td>\n",
       "      <td>0</td>\n",
       "      <td>0</td>\n",
       "      <td>0</td>\n",
       "      <td>0</td>\n",
       "      <td>0</td>\n",
       "      <td>0</td>\n",
       "      <td>0</td>\n",
       "      <td>0</td>\n",
       "      <td>0</td>\n",
       "      <td>1</td>\n",
       "    </tr>\n",
       "    <tr>\n",
       "      <th>1</th>\n",
       "      <td>0</td>\n",
       "      <td>0</td>\n",
       "      <td>0.22</td>\n",
       "      <td>0.80</td>\n",
       "      <td>0.0</td>\n",
       "      <td>8</td>\n",
       "      <td>32</td>\n",
       "      <td>40</td>\n",
       "      <td>1</td>\n",
       "      <td>0</td>\n",
       "      <td>...</td>\n",
       "      <td>0</td>\n",
       "      <td>0</td>\n",
       "      <td>0</td>\n",
       "      <td>0</td>\n",
       "      <td>0</td>\n",
       "      <td>0</td>\n",
       "      <td>0</td>\n",
       "      <td>0</td>\n",
       "      <td>0</td>\n",
       "      <td>1</td>\n",
       "    </tr>\n",
       "    <tr>\n",
       "      <th>2</th>\n",
       "      <td>0</td>\n",
       "      <td>0</td>\n",
       "      <td>0.22</td>\n",
       "      <td>0.80</td>\n",
       "      <td>0.0</td>\n",
       "      <td>5</td>\n",
       "      <td>27</td>\n",
       "      <td>32</td>\n",
       "      <td>1</td>\n",
       "      <td>0</td>\n",
       "      <td>...</td>\n",
       "      <td>0</td>\n",
       "      <td>0</td>\n",
       "      <td>0</td>\n",
       "      <td>0</td>\n",
       "      <td>0</td>\n",
       "      <td>0</td>\n",
       "      <td>0</td>\n",
       "      <td>0</td>\n",
       "      <td>0</td>\n",
       "      <td>1</td>\n",
       "    </tr>\n",
       "    <tr>\n",
       "      <th>3</th>\n",
       "      <td>0</td>\n",
       "      <td>0</td>\n",
       "      <td>0.24</td>\n",
       "      <td>0.75</td>\n",
       "      <td>0.0</td>\n",
       "      <td>3</td>\n",
       "      <td>10</td>\n",
       "      <td>13</td>\n",
       "      <td>1</td>\n",
       "      <td>0</td>\n",
       "      <td>...</td>\n",
       "      <td>0</td>\n",
       "      <td>0</td>\n",
       "      <td>0</td>\n",
       "      <td>0</td>\n",
       "      <td>0</td>\n",
       "      <td>0</td>\n",
       "      <td>0</td>\n",
       "      <td>0</td>\n",
       "      <td>0</td>\n",
       "      <td>1</td>\n",
       "    </tr>\n",
       "    <tr>\n",
       "      <th>4</th>\n",
       "      <td>0</td>\n",
       "      <td>0</td>\n",
       "      <td>0.24</td>\n",
       "      <td>0.75</td>\n",
       "      <td>0.0</td>\n",
       "      <td>0</td>\n",
       "      <td>1</td>\n",
       "      <td>1</td>\n",
       "      <td>1</td>\n",
       "      <td>0</td>\n",
       "      <td>...</td>\n",
       "      <td>0</td>\n",
       "      <td>0</td>\n",
       "      <td>0</td>\n",
       "      <td>0</td>\n",
       "      <td>0</td>\n",
       "      <td>0</td>\n",
       "      <td>0</td>\n",
       "      <td>0</td>\n",
       "      <td>0</td>\n",
       "      <td>1</td>\n",
       "    </tr>\n",
       "  </tbody>\n",
       "</table>\n",
       "<p>5 rows × 59 columns</p>\n",
       "</div>"
      ],
      "text/plain": [
       "   yr  holiday  temp   hum  windspeed  casual  registered  cnt  season_1  \\\n",
       "0   0        0  0.24  0.81        0.0       3          13   16         1   \n",
       "1   0        0  0.22  0.80        0.0       8          32   40         1   \n",
       "2   0        0  0.22  0.80        0.0       5          27   32         1   \n",
       "3   0        0  0.24  0.75        0.0       3          10   13         1   \n",
       "4   0        0  0.24  0.75        0.0       0           1    1         1   \n",
       "\n",
       "   season_2    ...      hr_21  hr_22  hr_23  weekday_0  weekday_1  weekday_2  \\\n",
       "0         0    ...          0      0      0          0          0          0   \n",
       "1         0    ...          0      0      0          0          0          0   \n",
       "2         0    ...          0      0      0          0          0          0   \n",
       "3         0    ...          0      0      0          0          0          0   \n",
       "4         0    ...          0      0      0          0          0          0   \n",
       "\n",
       "   weekday_3  weekday_4  weekday_5  weekday_6  \n",
       "0          0          0          0          1  \n",
       "1          0          0          0          1  \n",
       "2          0          0          0          1  \n",
       "3          0          0          0          1  \n",
       "4          0          0          0          1  \n",
       "\n",
       "[5 rows x 59 columns]"
      ]
     },
     "execution_count": 7,
     "metadata": {},
     "output_type": "execute_result"
    }
   ],
   "source": [
    "dummy_fields = ['season', 'weathersit', 'mnth', 'hr', 'weekday']\n",
    "for each in dummy_fields:\n",
    "    dummies = pd.get_dummies(rides[each], prefix=each, drop_first=False)\n",
    "    rides = pd.concat([rides, dummies], axis=1)\n",
    "\n",
    "fields_to_drop = ['instant', 'dteday', 'season', 'weathersit', \n",
    "                  'weekday', 'atemp', 'mnth', 'workingday', 'hr']\n",
    "data = rides.drop(fields_to_drop, axis=1)\n",
    "data.head()"
   ]
  },
  {
   "cell_type": "markdown",
   "metadata": {},
   "source": [
    "### Scaling target variables\n",
    "To make training the network easier, we'll standardize each of the continuous variables. That is, we'll shift and scale the variables such that they have zero mean and a standard deviation of 1.\n",
    "\n",
    "The scaling factors are saved so we can go backwards when we use the network for predictions."
   ]
  },
  {
   "cell_type": "code",
   "execution_count": 8,
   "metadata": {
    "collapsed": false
   },
   "outputs": [],
   "source": [
    "quant_features = ['casual', 'registered', 'cnt', 'temp', 'hum', 'windspeed']\n",
    "# Store scalings in a dictionary so we can convert back later\n",
    "scaled_features = {}\n",
    "for each in quant_features:\n",
    "    mean, std = data[each].mean(), data[each].std()\n",
    "    scaled_features[each] = [mean, std]\n",
    "    data.loc[:, each] = (data[each] - mean)/std"
   ]
  },
  {
   "cell_type": "markdown",
   "metadata": {},
   "source": [
    "### Splitting the data into training, testing, and validation sets\n",
    "\n",
    "We'll save the last 21 days of the data to use as a test set after we've trained the network. We'll use this set to make predictions and compare them with the actual number of riders."
   ]
  },
  {
   "cell_type": "code",
   "execution_count": 9,
   "metadata": {
    "collapsed": false
   },
   "outputs": [],
   "source": [
    "# Save the last 21 days \n",
    "test_data = data[-21*24:]\n",
    "data = data[:-21*24]\n",
    "\n",
    "# Separate the data into features and targets\n",
    "target_fields = ['cnt', 'casual', 'registered']\n",
    "features, targets = data.drop(target_fields, axis=1), data[target_fields]\n",
    "test_features, test_targets = test_data.drop(target_fields, axis=1), test_data[target_fields]"
   ]
  },
  {
   "cell_type": "markdown",
   "metadata": {},
   "source": [
    "We'll split the data into two sets, one for training and one for validating as the network is being trained. Since this is time series data, we'll train on historical data, then try to predict on future data (the validation set)."
   ]
  },
  {
   "cell_type": "code",
   "execution_count": 10,
   "metadata": {
    "collapsed": false
   },
   "outputs": [],
   "source": [
    "# Hold out the last 60 days of the remaining data as a validation set\n",
    "train_features, train_targets = features[:-60*24], targets[:-60*24]\n",
    "val_features, val_targets = features[-60*24:], targets[-60*24:]"
   ]
  },
  {
   "cell_type": "markdown",
   "metadata": {},
   "source": [
    "## Time to build the network\n",
    "\n",
    "Below you'll build your network. We've built out the structure and the backwards pass. You'll implement the forward pass through the network. You'll also set the hyperparameters: the learning rate, the number of hidden units, and the number of training passes.\n",
    "\n",
    "The network has two layers, a hidden layer and an output layer. The hidden layer will use the sigmoid function for activations. The output layer has only one node and is used for the regression, the output of the node is the same as the input of the node. That is, the activation function is $f(x)=x$. A function that takes the input signal and generates an output signal, but takes into account the threshold, is called an activation function. We work through each layer of our network calculating the outputs for each neuron. All of the outputs from one layer become inputs to the neurons on the next layer. This process is called *forward propagation*.\n",
    "\n",
    "We use the weights to propagate signals forward from the input to the output layers in a neural network. We use the weights to also propagate error backwards from the output back into the network to update our weights. This is called *backpropagation*.\n",
    "\n",
    "> **Hint:** You'll need the derivative of the output activation function ($f(x) = x$) for the backpropagation implementation. If you aren't familiar with calculus, this function is equivalent to the equation $y = x$. What is the slope of that equation? That is the derivative of $f(x)$.\n",
    "\n",
    "Below, you have these tasks:\n",
    "1. Implement the sigmoid function to use as the activation function. Set `self.activation_function` in `__init__` to your sigmoid function.\n",
    "2. Implement the forward pass in the `train` method.\n",
    "3. Implement the backpropagation algorithm in the `train` method, including calculating the output error.\n",
    "4. Implement the forward pass in the `run` method.\n",
    "  "
   ]
  },
  {
   "cell_type": "code",
   "execution_count": 11,
   "metadata": {
    "collapsed": true
   },
   "outputs": [],
   "source": [
    "class NeuralNetwork(object):\n",
    "    def __init__(self, input_nodes, hidden_nodes, output_nodes, learning_rate):\n",
    "        # Set number of nodes in input, hidden and output layers.\n",
    "        self.input_nodes = input_nodes\n",
    "        self.hidden_nodes = hidden_nodes\n",
    "        self.output_nodes = output_nodes\n",
    "\n",
    "        # Initialize weights\n",
    "        self.weights_input_to_hidden = np.random.normal(0.0, self.hidden_nodes**-0.5, \n",
    "                                       (self.hidden_nodes, self.input_nodes))\n",
    "\n",
    "        self.weights_hidden_to_output = np.random.normal(0.0, self.output_nodes**-0.5, \n",
    "                                       (self.output_nodes, self.hidden_nodes))\n",
    "        self.lr = learning_rate\n",
    "        \n",
    "        #### Set this to your implemented sigmoid function ####\n",
    "        # Activation function is the sigmoid function\n",
    "        # self.activation_function = \n",
    "        \n",
    "    def activation_function(self, x):\n",
    "        \"\"\"\n",
    "        Implementation of sigmoid activation function\n",
    "        \"\"\"\n",
    "        return 1 / (1 + np.exp(-x))\n",
    "    \n",
    "    def train(self, inputs_list, targets_list):\n",
    "        # Convert inputs list to 2d array\n",
    "        inputs = np.array(inputs_list, ndmin=2).T\n",
    "        targets = np.array(targets_list, ndmin=2).T\n",
    "        \n",
    "        #### Implement the forward pass here ####\n",
    "        ### Forward pass ###\n",
    "        # TODO: Hidden layer\n",
    "        hidden_inputs = np.dot(self.weights_input_to_hidden, inputs) # signals into hidden layer\n",
    "        hidden_outputs = self.activation_function(hidden_inputs) # signals from hidden layer\n",
    "        \n",
    "        # TODO: Output layer\n",
    "        final_inputs = np.dot(self.weights_hidden_to_output, hidden_outputs) # signals into final output layer\n",
    "        final_outputs = self.activation_function(final_inputs) # signals from final output layer\n",
    "        \n",
    "        #### Implement the backward pass here ####\n",
    "        ### Backward pass ###\n",
    "        \n",
    "        # TODO: Output error\n",
    "        output_errors = targets - final_outputs # Output layer error is the difference between desired target and actual output.\n",
    "        output_grad = output_errors.T * final_outputs * (1 - final_outputs)\n",
    "        \n",
    "        # TODO: Backpropagated error\n",
    "        hidden_errors = np.dot(output_errors, self.weights_hidden_to_output) # errors propagated to the hidden layer\n",
    "        hidden_grad = hidden_outputs * (1 - hidden_outputs) * hidden_errors.T # hidden layer gradients\n",
    "        \n",
    "        # TODO: Update the weights\n",
    "        self.weights_hidden_to_output += output_grad * hidden_outputs.T * self.lr # update hidden-to-output weights with gradient descent step\n",
    "        self.weights_input_to_hidden += hidden_grad * inputs.T * self.lr # update input-to-hidden weights with gradient descent step\n",
    "        \n",
    "    def run(self, inputs_list):\n",
    "        # Run a forward pass through the network\n",
    "        inputs = np.array(inputs_list, ndmin=2).T\n",
    "        \n",
    "        #### Implement the forward pass here ####\n",
    "        # TODO: Hidden layer\n",
    "        hidden_inputs = np.dot(self.weights_input_to_hidden, inputs) # signals into hidden layer\n",
    "        hidden_outputs = self.activation_function(hidden_inputs) # signals from hidden layer\n",
    "        \n",
    "        # TODO: Output layer\n",
    "        final_inputs = np.dot(self.weights_hidden_to_output, hidden_outputs) # signals into final output layer\n",
    "        final_outputs = self.activation_function(final_inputs) # signals from final output layer \n",
    "        \n",
    "        return final_outputs"
   ]
  },
  {
   "cell_type": "code",
   "execution_count": 12,
   "metadata": {
    "collapsed": true
   },
   "outputs": [],
   "source": [
    "def MSE(y, Y):\n",
    "    return np.mean((y-Y)**2)"
   ]
  },
  {
   "cell_type": "markdown",
   "metadata": {},
   "source": [
    "## Training the network\n",
    "\n",
    "Here you'll set the hyperparameters for the network. The strategy here is to find hyperparameters such that the error on the training set is low, but you're not overfitting to the data. If you train the network too long or have too many hidden nodes, it can become overly specific to the training set and will fail to generalize to the validation set. That is, the loss on the validation set will start increasing as the training set loss drops.\n",
    "\n",
    "You'll also be using a method know as Stochastic Gradient Descent (SGD) to train the network. The idea is that for each training pass, you grab a random sample of the data instead of using the whole data set. You use many more training passes than with normal gradient descent, but each pass is much faster. This ends up training the network more efficiently. You'll learn more about SGD later.\n",
    "\n",
    "### Choose the number of epochs\n",
    "This is the number of times the dataset will pass through the network, each time updating the weights. As the number of epochs increases, the network becomes better and better at predicting the targets in the training set. You'll need to choose enough epochs to train the network well but not too many or you'll be overfitting.\n",
    "\n",
    "### Choose the learning rate\n",
    "This scales the size of weight updates. If this is too big, the weights tend to explode and the network fails to fit the data. A good choice to start at is 0.1. If the network has problems fitting the data, try reducing the learning rate. Note that the lower the learning rate, the smaller the steps are in the weight updates and the longer it takes for the neural network to converge.\n",
    "\n",
    "### Choose the number of hidden nodes\n",
    "The more hidden nodes you have, the more accurate predictions the model will make. Try a few different numbers and see how it affects the performance. You can look at the losses dictionary for a metric of the network performance. If the number of hidden units is too low, then the model won't have enough space to learn and if it is too high there are too many options for the direction that the learning can take. The trick here is to find the right balance in number of hidden units you choose."
   ]
  },
  {
   "cell_type": "code",
   "execution_count": 32,
   "metadata": {
    "collapsed": false
   },
   "outputs": [
    {
     "name": "stdout",
     "output_type": "stream",
     "text": [
      "Progress: 99.9% ... Training loss: 0.566 ... Validation loss: 0.698"
     ]
    }
   ],
   "source": [
    "import sys\n",
    "\n",
    "### Set the hyperparameters here ###\n",
    "epochs = 10000\n",
    "learning_rate = 0.01\n",
    "hidden_nodes = 10\n",
    "output_nodes = 1\n",
    "\n",
    "N_i = train_features.shape[1]\n",
    "network = NeuralNetwork(N_i, hidden_nodes, output_nodes, learning_rate)\n",
    "\n",
    "losses = {'train':[], 'validation':[]}\n",
    "for e in range(epochs):\n",
    "    # Go through a random batch of 128 records from the training data set\n",
    "    batch = np.random.choice(train_features.index, size=128)\n",
    "    for record, target in zip(train_features.ix[batch].values, \n",
    "                              train_targets.ix[batch]['cnt']):\n",
    "        network.train(record, target)\n",
    "    \n",
    "    # Printing out the training progress\n",
    "    train_loss = MSE(network.run(train_features), train_targets['cnt'].values)\n",
    "    val_loss = MSE(network.run(val_features), val_targets['cnt'].values)\n",
    "    sys.stdout.write(\"\\rProgress: \" + str(100 * e/float(epochs))[:4] \\\n",
    "                     + \"% ... Training loss: \" + str(train_loss)[:5] \\\n",
    "                     + \" ... Validation loss: \" + str(val_loss)[:5])\n",
    "    \n",
    "    losses['train'].append(train_loss)\n",
    "    losses['validation'].append(val_loss)"
   ]
  },
  {
   "cell_type": "code",
   "execution_count": 29,
   "metadata": {
    "collapsed": false
   },
   "outputs": [
    {
     "data": {
      "text/plain": [
       "(0.52965138443995441, 0.5)"
      ]
     },
     "execution_count": 29,
     "metadata": {},
     "output_type": "execute_result"
    },
    {
     "data": {
      "image/png": "[encoded data removed]",
      "text/plain": [
       "<matplotlib.figure.Figure at 0x7ffa36135128>"
      ]
     },
     "metadata": {
      "image/png": {
       "height": 252,
       "width": 386
      }
     },
     "output_type": "display_data"
    }
   ],
   "source": [
    "plt.plot(losses['train'], label='Training loss')\n",
    "plt.plot(losses['validation'], label='Validation loss')\n",
    "plt.legend()\n",
    "plt.ylim(ymax=0.5)"
   ]
  },
  {
   "cell_type": "markdown",
   "metadata": {},
   "source": [
    "## Check out your predictions\n",
    "\n",
    "Here, use the test data to view how well your network is modeling the data. If something is completely wrong here, make sure each step in your network is implemented correctly."
   ]
  },
  {
   "cell_type": "code",
   "execution_count": null,
   "metadata": {
    "collapsed": false
   },
   "outputs": [],
   "source": [
    "fig, ax = plt.subplots(figsize=(8,4))\n",
    "\n",
    "mean, std = scaled_features['cnt']\n",
    "predictions = network.run(test_features)*std + mean\n",
    "ax.plot(predictions[0], label='Prediction')\n",
    "ax.plot((test_targets['cnt']*std + mean).values, label='Data')\n",
    "ax.set_xlim(right=len(predictions))\n",
    "ax.legend()\n",
    "\n",
    "dates = pd.to_datetime(rides.ix[test_data.index]['dteday'])\n",
    "dates = dates.apply(lambda d: d.strftime('%b %d'))\n",
    "ax.set_xticks(np.arange(len(dates))[12::24])\n",
    "_ = ax.set_xticklabels(dates[12::24], rotation=45)"
   ]
  },
  {
   "cell_type": "markdown",
   "metadata": {},
   "source": [
    "## Thinking about your results\n",
    " \n",
    "Answer these questions about your results. How well does the model predict the data? Where does it fail? Why does it fail where it does?\n",
    "\n",
    "> **Note:** You can edit the text in this cell by double clicking on it. When you want to render the text, press control + enter\n",
    "\n",
    "#### Your answer below"
   ]
  },
  {
   "cell_type": "markdown",
   "metadata": {},
   "source": [
    "## Unit tests\n",
    "\n",
    "Run these unit tests to check the correctness of your network implementation. These tests must all be successful to pass the project."
   ]
  },
  {
   "cell_type": "code",
   "execution_count": 13,
   "metadata": {
    "collapsed": false
   },
   "outputs": [
    {
     "name": "stderr",
     "output_type": "stream",
     "text": [
      "...FF\n",
      "======================================================================\n",
      "FAIL: test_run (__main__.TestMethods)\n",
      "----------------------------------------------------------------------\n",
      "Traceback (most recent call last):\n",
      "  File \"<ipython-input-13-f992b33152d9>\", line 51, in test_run\n",
      "    self.assertTrue(np.allclose(network.run(inputs), 0.09998924))\n",
      "AssertionError: False is not true\n",
      "\n",
      "======================================================================\n",
      "FAIL: test_train (__main__.TestMethods)\n",
      "----------------------------------------------------------------------\n",
      "Traceback (most recent call last):\n",
      "  File \"<ipython-input-13-f992b33152d9>\", line 40, in test_train\n",
      "    np.array([[ 0.37275328, -0.03172939]])))\n",
      "AssertionError: False is not true\n",
      "\n",
      "----------------------------------------------------------------------\n",
      "Ran 5 tests in 0.008s\n",
      "\n",
      "FAILED (failures=2)\n"
     ]
    },
    {
     "data": {
      "text/plain": [
       "<unittest.runner.TextTestResult run=5 errors=0 failures=2>"
      ]
     },
     "execution_count": 13,
     "metadata": {},
     "output_type": "execute_result"
    }
   ],
   "source": [
    "import unittest\n",
    "\n",
    "inputs = [0.5, -0.2, 0.1]\n",
    "targets = [0.4]\n",
    "test_w_i_h = np.array([[0.1, 0.4, -0.3], \n",
    "                       [-0.2, 0.5, 0.2]])\n",
    "test_w_h_o = np.array([[0.3, -0.1]])\n",
    "\n",
    "class TestMethods(unittest.TestCase):\n",
    "    \n",
    "    ##########\n",
    "    # Unit tests for data loading\n",
    "    ##########\n",
    "    \n",
    "    def test_data_path(self):\n",
    "        # Test that file path to dataset has been unaltered\n",
    "        self.assertTrue(data_path.lower() == 'bike-sharing-dataset/hour.csv')\n",
    "        \n",
    "    def test_data_loaded(self):\n",
    "        # Test that data frame loaded\n",
    "        self.assertTrue(isinstance(rides, pd.DataFrame))\n",
    "    \n",
    "    ##########\n",
    "    # Unit tests for network functionality\n",
    "    ##########\n",
    "\n",
    "    def test_activation(self):\n",
    "        network = NeuralNetwork(3, 2, 1, 0.5)\n",
    "        # Test that the activation function is a sigmoid\n",
    "        self.assertTrue(np.all(network.activation_function(0.5) == 1/(1+np.exp(-0.5))))\n",
    "\n",
    "    def test_train(self):\n",
    "        # Test that weights are updated correctly on training\n",
    "        network = NeuralNetwork(3, 2, 1, 0.5)\n",
    "        network.weights_input_to_hidden = test_w_i_h.copy()\n",
    "        network.weights_hidden_to_output = test_w_h_o.copy()\n",
    "        \n",
    "        network.train(inputs, targets)\n",
    "        self.assertTrue(np.allclose(network.weights_hidden_to_output, \n",
    "                                    np.array([[ 0.37275328, -0.03172939]])))\n",
    "        self.assertTrue(np.allclose(network.weights_input_to_hidden,\n",
    "                                    np.array([[ 0.10562014,  0.39775194, -0.29887597],\n",
    "                                              [-0.20185996,  0.50074398,  0.19962801]])))\n",
    "\n",
    "    def test_run(self):\n",
    "        # Test correctness of run method\n",
    "        network = NeuralNetwork(3, 2, 1, 0.5)\n",
    "        network.weights_input_to_hidden = test_w_i_h.copy()\n",
    "        network.weights_hidden_to_output = test_w_h_o.copy()\n",
    "\n",
    "        self.assertTrue(np.allclose(network.run(inputs), 0.09998924))\n",
    "\n",
    "suite = unittest.TestLoader().loadTestsFromModule(TestMethods())\n",
    "unittest.TextTestRunner().run(suite)"
   ]
  },
  {
   "cell_type": "code",
   "execution_count": 102,
   "metadata": {
    "collapsed": false
   },
   "outputs": [
    {
     "name": "stdout",
     "output_type": "stream",
     "text": [
      "[[1 2 3]]\n",
      "[[1]\n",
      " [2]]\n",
      "[[1 2 3]\n",
      " [2 4 6]]\n",
      "(1, 3)\n",
      "(2, 1)\n"
     ]
    }
   ],
   "source": [
    "a = np.array([[1,2,3]])\n",
    "b= np.array([[1], [2]])\n",
    "print(a)\n",
    "print(b)\n",
    "print(b*a)\n",
    "\n",
    "print(a.shape)\n",
    "print(b.shape)"
   ]
  },
  {
   "cell_type": "code",
   "execution_count": 27,
   "metadata": {
    "collapsed": false
   },
   "outputs": [
    {
     "name": "stdout",
     "output_type": "stream",
     "text": [
      "{'train': [1.0296102145652819, 0.96354618939814685, 0.9285969809085155, 0.8982792149163471, 0.88051322750574257, 0.86774584080703954, 0.85451659883029885, 0.84092046419962208, 0.83400654840302202, 0.82596328680731079, 0.82422363917743302, 0.81720989409246703, 0.81250595296610373, 0.80967967988797362, 0.80806625519859432, 0.80259466138905255, 0.79963720385709292, 0.79659553415071871, 0.79420111642561775, 0.79179576712568145, 0.7898331712769906, 0.78909789718690182, 0.78633436529674483, 0.78458237490992289, 0.78496349845665558, 0.78218622557783002, 0.7798953492427747, 0.77921694889559356, 0.77826630459440427, 0.77651113696256313, 0.77573746770828444, 0.7764260776177756, 0.77301018179236314, 0.77001011583742485, 0.76868049165990071, 0.76749543062056469, 0.76575319749245163, 0.7630590848808031, 0.76293149134128013, 0.76244947801843566, 0.75993052669651739, 0.75951924622781064, 0.75863661610472899, 0.75862139411522789, 0.7591945583360773, 0.75783704497275806, 0.75605310248264801, 0.75279516748292596, 0.7509093498232704, 0.74988658822165033, 0.75007853968106852, 0.74834724017384058, 0.74771047599691809, 0.74666210410699352, 0.74674207786117863, 0.74428556713644312, 0.74220729168897781, 0.74086613546567748, 0.74017085818882866, 0.7401509905531245, 0.73829324989690792, 0.73831700838827707, 0.73602374691138805, 0.73636959707178595, 0.73449459856259447, 0.73358621238027011, 0.7351256586169137, 0.73355157261400472, 0.73382429210897671, 0.73343737676096254, 0.73202582968838348, 0.72982192180544581, 0.72721030570116973, 0.72854872548489147, 0.72772937456402176, 0.7249794308108124, 0.72487796346825484, 0.72299362387815569, 0.7221174805343934, 0.72221180189069478, 0.7207053288252635, 0.72160405237634417, 0.72134747082794748, 0.72173914245351156, 0.71954078767707907, 0.71822731819884889, 0.71531258378355456, 0.71626718431547565, 0.71691514266140222, 0.71270174274088283, 0.70961228373111351, 0.70802324638946912, 0.70736584140464265, 0.70722836921208609, 0.70780641598560601, 0.70521896475521928, 0.70514235228642541, 0.70546204828478887, 0.70484976768833119, 0.70478203851309762, 0.70302113553718715, 0.70296158381381524, 0.70078393433008235, 0.69974788607745297, 0.69874174531820799, 0.69786328344544646, 0.70025307045453788, 0.70039998518006996, 0.69894215989638353, 0.69663240467588028, 0.69661752160252866, 0.69596087512988913, 0.6967326048450706, 0.69418875134037272, 0.69359785037697874, 0.69295317991269556, 0.69260583730736436, 0.69180147630183197, 0.69272884806688062, 0.6914264497292526, 0.69019600424324157, 0.68717727792461847, 0.68665207673153728, 0.68563464152179365, 0.68592859628682545, 0.68438332126248058, 0.68484804406747513, 0.68340201246334975, 0.6825941096418664, 0.68309641377828101, 0.6828993009236789, 0.68171101761951214, 0.68068722148669014, 0.67969269902741636, 0.67968401120708122, 0.68054041760357842, 0.68131946762284634, 0.68065835795250318, 0.6807888807856004, 0.68072776863108908, 0.68079822049322014, 0.68007188440868072, 0.67931426465889755, 0.67943272491307349, 0.67975126403152264, 0.67976771374366052, 0.6791889201870388, 0.67868623648218096, 0.67778757479845331, 0.67654820962244988, 0.67661171741059722, 0.67512576703962768, 0.67536104740207104, 0.67542330522147609, 0.67508836356981961, 0.67337779656570673, 0.67288699091322746, 0.67377270985082904, 0.67443000874799108, 0.67340142421770011, 0.67362969882584134, 0.6722465569426318, 0.67182073573158363, 0.67170379365733979, 0.67133339252117896, 0.66912821275998313, 0.67034024284633154, 0.66894754792095545, 0.66809862947718601, 0.66824136652633559, 0.66779945652013228, 0.66820254646917532, 0.66810249296214275, 0.66712823115865805, 0.66703850848948121, 0.66653954566415163, 0.66706547234342772, 0.66610418388706871, 0.66561139646929057, 0.66559399027398713, 0.66472112480949752, 0.6637353348374091, 0.66447507714417064, 0.6645750990060374, 0.66344335929956955, 0.66345249514588478, 0.66324235411069343, 0.66420542413863493, 0.66396128906533292, 0.66213227285928078, 0.66083415912718513, 0.66161895167955065, 0.6612826225313847, 0.6600337081439861, 0.65875796176511348, 0.65745454320144092, 0.65870242243250077, 0.65887822054359413, 0.65707870280267322, 0.65674596118647777, 0.65824527701296509, 0.65775138082317752, 0.65648918280412061, 0.65573837111297095, 0.65543856531580946, 0.65542023181553821, 0.65480283467001521, 0.65370718069010258, 0.65344649390704423, 0.65368754022924758, 0.65321891433697832, 0.65331684676975421, 0.65288008838347411, 0.65266166862000707, 0.65365294540941077, 0.65479754653607936, 0.65361263886954402, 0.65265909424644653, 0.65375543157594929, 0.65473861504128572, 0.65507926164290453, 0.65347803652687597, 0.6520936657979638, 0.65194783197861295, 0.65202846755325705, 0.6504848958924363, 0.64920148249499177, 0.6499285568543024, 0.64932035051050729, 0.64879830050569842, 0.64782091284951027, 0.6489140978921919, 0.64985568080149025, 0.65048164069216885, 0.64898607633438676, 0.64907705034817664, 0.64856551952368069, 0.64723600868705411, 0.64889420198766212, 0.6487982619743774, 0.64798661429460025, 0.64714145159482672, 0.64550679722869164, 0.6443825397205416, 0.64411171228722019, 0.64388281287331395, 0.64467260554015882, 0.64447660689068131, 0.64379303739410465, 0.64420524465884932, 0.64375191960256251, 0.64280392000945508, 0.64203111535811741, 0.64107685753293364, 0.64198278405021003, 0.64129154169934555, 0.64120482512095989, 0.64039096630927572, 0.6403681920600075, 0.64000121508507823, 0.64027875859572814, 0.63993608113665934, 0.64078314700715466, 0.64039436431186014, 0.64157579271596787, 0.64124323659549387, 0.63990055345933228, 0.6393454392858452, 0.63894480752325822, 0.63916754890113614, 0.63844388510703121, 0.63820058528200907, 0.63875895275316508, 0.63832639870436436, 0.63817897802492596, 0.63897065187371715, 0.63890690273971529, 0.63922477201458294, 0.63819183638334842, 0.63885410193612024, 0.63929702528857846, 0.63991091154082924, 0.63892043412535493, 0.63877903707412365, 0.63900155353388544, 0.6399155371218096, 0.63972637284167322, 0.63942304104368664, 0.63955727905426785, 0.6374979190474096, 0.63757589308627782, 0.63645123032266038, 0.63623382209345636, 0.63598654084055739, 0.63666839133852182, 0.63571860005359282, 0.63618554460957266, 0.63668058984654596, 0.63715603532948351, 0.63630583718434075, 0.63538268382593088, 0.63441601031487282, 0.63399026839545658, 0.63462159498148718, 0.63468365683575378, 0.63496224890500519, 0.63498013978960977, 0.63346917876671471, 0.63377670104172723, 0.63211854482401364, 0.63277146843093124, 0.63326103482768759, 0.63281649112154348, 0.63285743836705921, 0.63302436123498551, 0.63273005474545729, 0.63313987679823647, 0.63227638426581734, 0.63205712473311848, 0.63168741993379274, 0.63047420391939424, 0.63030998163400886, 0.62989931005001099, 0.62986226889461849, 0.63017018743770414, 0.63004325172068343, 0.63034608403812742, 0.63001828892847234, 0.62987573173501943, 0.63083668491996636, 0.63079407140676647, 0.63106372533335853, 0.63066471227965937, 0.63011554322216945, 0.6296682141680422, 0.62968183780548015, 0.63065976220865239, 0.63122171169284502, 0.63201088004351813, 0.63134367811171843, 0.63159233646242474, 0.63088055500402407, 0.62999999596680245, 0.6303586248696087, 0.6300253406507369, 0.62956731048376346, 0.62936109704349685, 0.62904933601022273, 0.62958747371929413, 0.62983862460283713, 0.6297084293205546, 0.63097748569609735, 0.63026058607471791, 0.63025007641652142, 0.63146704190015102, 0.62997930770719435, 0.62817131897864031, 0.62967225502917101, 0.62950064434008823, 0.62983129235532886, 0.62971906899886942, 0.62878572883349437, 0.62913583157106734, 0.62830802352073567, 0.62891433677485886, 0.62940320522968218, 0.62912936183385482, 0.62943386382152622, 0.62957152757930368, 0.62902300975862813, 0.62913775918314285, 0.62889504628050219, 0.62844642158831676, 0.62834870243554219, 0.62821597007485441, 0.62814600547858457, 0.62743606356190029, 0.62704457959796989, 0.62640039119925162, 0.62809111511947058, 0.62832911289046067, 0.62762586522703379, 0.62706045513209041, 0.62787424453519691, 0.62815328987571695, 0.62736502731244237, 0.62736249524010756, 0.62636119268178658, 0.62546951629464131, 0.62564991519509316, 0.62511697591912452, 0.62500136995953925, 0.62534668224764378, 0.6252986487541925, 0.62542502931808086, 0.62602003494934766, 0.62573322311670598, 0.62515739593139685, 0.62506988142362174, 0.62569271364522805, 0.62642164367864339, 0.62638668304363054, 0.62614781032039946, 0.62667505848640392, 0.62748308209032011, 0.6271198982385342, 0.62702389741580056, 0.62599279749251158, 0.62546362693880453, 0.62557088567747277, 0.62619498520511541, 0.62634148821665137, 0.6254754765709073, 0.62512751409870404, 0.62425436777995236, 0.62396563904401947, 0.62409451560547402, 0.62441899190274897, 0.62512051799292268, 0.62490716720942596, 0.62588098326810071, 0.62579694432955468, 0.62535912578918262, 0.62516394359245309, 0.62597963987053173, 0.62578106104989029, 0.624513639138913, 0.62503006725029953, 0.62447504452715963, 0.62460621175164277, 0.62507930233161857, 0.62342410689946048, 0.62355559411114625, 0.62302273461811675, 0.62282988163586939, 0.62242897456803614, 0.62317866315076653, 0.62338357002549571, 0.62388717841956731, 0.6242864627735154, 0.6241371159806649, 0.62378817204980708, 0.62360486189192399, 0.62402240202110515, 0.62232457226265137, 0.62235103678482095, 0.62275132089982932, 0.62344041971567443, 0.62308908762256854, 0.6228487749895445, 0.62290439390467911, 0.62316096263846454, 0.62268860105028812, 0.62298484833349299, 0.6236674850672469, 0.62403879498676551, 0.62329558862697831, 0.62324693877515935, 0.62316199986381915, 0.62293443586983621, 0.62251956946725484, 0.62249776010182145, 0.62273752853087883, 0.62260900898833138, 0.62325697490179544, 0.62307310241394698, 0.62313816233729324, 0.62360690975801447, 0.62384210327838263, 0.62461594283164668, 0.62409535438192232, 0.6234056472852707, 0.62313519308722243, 0.62297784765334163, 0.62344469895210752, 0.62412350264046024, 0.62484396077135218, 0.62518904887002069, 0.62546912891283346, 0.62463956137391718, 0.62414025067438217, 0.62449287451349156, 0.62422422856676318, 0.62409870771897513, 0.62367311040542639, 0.62392981717769647, 0.62318084026684406, 0.62258470388399934, 0.62218856492923202, 0.62250551745377891, 0.62294290630927862, 0.62374651613100618, 0.6232929941596107, 0.62301299107809027, 0.62211280974426841, 0.62132311954116837, 0.62132577961015278, 0.62142708759149223, 0.62159644313861417, 0.62112582754572121, 0.62115183572730548, 0.62113425862589278, 0.62148511674202611, 0.62004421106976604, 0.62034227216051674, 0.62037822066533721, 0.62058229516608032, 0.62051054374626979, 0.62043195149265062, 0.62020381525722923, 0.62020184260301414, 0.62080065637769144, 0.62112318773300712, 0.62074132152559425, 0.62092450630807738, 0.62120954391957717, 0.62079774151780809, 0.62019374254705784, 0.62060875034633556, 0.62068728309809029, 0.62020471426161505, 0.61990849040973983, 0.61968842484094766, 0.6200481076033616, 0.62057061757204979, 0.61976640505900127, 0.61988854999299969, 0.61931487213991465, 0.61962326705703319, 0.61900883971969844, 0.61957034817157897, 0.6194428415211306, 0.61940381006253586, 0.61923996039487239, 0.61978875614380102, 0.62044046247303808, 0.61995688707930285, 0.62041148028730919, 0.62039721837567152, 0.62010177940745426, 0.61999663898058199, 0.62020664540271719, 0.62077128369858547, 0.61995373176021229, 0.61963181836049941, 0.61961277165254214, 0.61972127126261312, 0.61997336620360466, 0.61978358721818794, 0.61960476476138837, 0.61926484487341404, 0.61963903056463188, 0.62079592844938436, 0.62046380792253286, 0.62048861412752432, 0.62065127240019424, 0.62109821952236222, 0.62068442273671109, 0.62083592759915918, 0.62100335158099906, 0.62097271593672065, 0.62146053970701076, 0.6217587717811176, 0.62248758373105195, 0.6223362431111471, 0.62303293750836908, 0.62219983227410225, 0.62214641394662085, 0.62218865809874924, 0.6220451211945579, 0.62137037445619669, 0.62132002523561625, 0.62084752373030361, 0.61959580749596632, 0.61941483256205898, 0.61906519283129313, 0.6193950752496058, 0.61958046732212513, 0.62009474216573168, 0.61983145951401553, 0.62048573304426502, 0.62032272049172665, 0.61993830947903306, 0.6195133960796938, 0.6192234221883669, 0.61938456186896651, 0.61953331710172022, 0.61861542061157482, 0.61848218077205297, 0.61861432279885364, 0.61849459797530626, 0.61868221739459062, 0.61963427070115606, 0.6192593736833758, 0.61925551268472279, 0.61869764051463794, 0.6186165139257096, 0.61842241229870998, 0.61830019758832822, 0.61855162089497395, 0.61803308330142559, 0.61777634542576509, 0.617609261771637, 0.61755825358158523, 0.61792959497221267, 0.61761760225579942, 0.61759397264749161, 0.61746611261385398, 0.61755079842523108, 0.61790512775616413, 0.61819417716582059, 0.61791277240539766, 0.61749600988321496, 0.61694874793090038, 0.61667160805624543, 0.61650852940904188, 0.61662003273077559, 0.61666160930109271, 0.61704054000040298, 0.61705259160817527, 0.61689933571192501, 0.61709095606024311, 0.61735076308430059, 0.61719079823622747, 0.61694711710062056, 0.61679892580091245, 0.61729698777454101, 0.61701054607942707, 0.61791516916643685, 0.61731917079939069, 0.61755511901629812, 0.61669120399826005, 0.61727329639966189, 0.61812660789984286, 0.61780753265682831, 0.61801746385077316, 0.61781410142263427, 0.61737218933756388, 0.61712488743597593, 0.61663103726815216, 0.61675070180583902, 0.61666674412604205, 0.6168719633331583, 0.61683509528979652, 0.61642016755974505, 0.61660428430140313, 0.61726272957144179, 0.61741761516434512, 0.6171138647970289, 0.61707195984008956, 0.61644089190389117, 0.61691279418578993, 0.61669237440759472, 0.61667575289971832, 0.61671552075136571, 0.61748584214946844, 0.61660606796996087, 0.61721525674364686, 0.61775474741097802, 0.61772885087368878, 0.61788827002539337, 0.61767583710705942, 0.61790239907318056, 0.61740461030519422, 0.61752885235490851, 0.61800420536804257, 0.61772061200058215, 0.61899622404823085, 0.6185325819907237, 0.61913211743722296, 0.61960155787598969, 0.61891209510819067, 0.6181945076055575, 0.61795896599409605, 0.61763189640060701, 0.61785177246763467, 0.61889494322799232, 0.61835803074530082, 0.61806466140940119, 0.61863642124171814, 0.61921819567035463, 0.61938939126405657, 0.61839540795780668, 0.61850307089035206, 0.61811785665095975, 0.61805807143806968, 0.61808494220289301, 0.61810658162391363, 0.61774881433940099, 0.6170197120409503, 0.61726034044415379, 0.61774915676332576, 0.61757862458659829, 0.61692886417612813, 0.61707244606925282, 0.61710999918975196, 0.61692202293676712, 0.61734607540682185, 0.61682119190065332, 0.61671789374792929, 0.61642332975969094, 0.61603962610751783, 0.61599124970257846, 0.61612676158155188, 0.6156215754373715, 0.61592107411010988, 0.61652855795903427, 0.61609989575792157, 0.61609443606976899, 0.61545704605011375, 0.61541034428651431, 0.61663535965745975, 0.61644553799913471, 0.61668644284651464, 0.61621056676729002, 0.61667218626687925, 0.61716012344014892, 0.61774353915163371, 0.61765403341861591, 0.6176619410144506, 0.61771331330069912, 0.61733514982815474, 0.61694997461798062, 0.61658179852030337, 0.61661064782957242, 0.61657689369787794, 0.61702903796222319, 0.61749570935851716, 0.61736584031555508, 0.61735200321688732, 0.61712251386853367, 0.6171144859417087, 0.61763918720470468, 0.61695330812244364, 0.61669155286825939, 0.61675661878182531, 0.61698298734954427, 0.61746809833430272, 0.61698683242756824, 0.61695644085747658, 0.61674964683959344, 0.61617794952233951, 0.61676352983762328, 0.61651427300807971, 0.61647575411595079, 0.61589054741321758, 0.61642653905157396, 0.61695874439879017, 0.61663696524676448, 0.61631291798112131, 0.6157592551138672, 0.61583337026457119, 0.6147547988703761, 0.61441364232431117, 0.6142907903159629, 0.61409518682858799, 0.6143391063088004, 0.61483231482950129, 0.61539109149234938, 0.61549964506649846, 0.61567611357744978, 0.61624601370068466, 0.61706067116309837, 0.61690555532765678, 0.61688471808723977, 0.6165427140417733, 0.61690093112526845, 0.61718941182082054, 0.61748970225160216, 0.61727399118940207, 0.61725418311578695, 0.61723601283963225, 0.61668468232148366, 0.61691255546673462, 0.61680183661107812, 0.61696833964297459, 0.61641759332248713, 0.61695774436000905, 0.61686805058920813, 0.61671103518597148, 0.61667890871218578, 0.61647709200223311, 0.61656376024958004, 0.61661680763567084, 0.61688090007107099, 0.61627048663444539, 0.61592556359772965, 0.61659777706034402, 0.61663444473586426, 0.61709171075917213, 0.61682779471439741, 0.6162605062580403, 0.616006050508354, 0.61589738225939605, 0.61611419575883952, 0.61593784449782207, 0.61634456047015984, 0.61600329885612137, 0.61583852507922943, 0.61581223206024238, 0.61622939301315738, 0.61579637563681144, 0.61582748464540549, 0.61620113580195879, 0.61643013104837008, 0.61648883931720111, 0.61642068723346388, 0.61532522062135819, 0.61464248829373991, 0.61492099091854746, 0.61452357375938305, 0.6151857881032704, 0.61515176475775368, 0.61515946392485876, 0.61593964042834703, 0.61610375064249723, 0.61563978937122676, 0.61504076895335857, 0.61448995427466102, 0.6145424519320708, 0.61436265674425872, 0.61438596419881142, 0.61411887684944522, 0.61347209733285013, 0.61351271583281219, 0.61341586512496127, 0.61345344215274911, 0.61338813887678245, 0.61325902512275232, 0.61389860051938017, 0.61372705515627446, 0.6139699855513604, 0.61377570519774016, 0.61368145990442269, 0.61367082776490378, 0.61388305678778277, 0.61348732195520128, 0.61380143240962692, 0.61404714179264019, 0.61421265624057431, 0.61426104234435452, 0.61362399485633146, 0.61396331545798777, 0.61416339676445053, 0.61478337245530013, 0.6146434963635069, 0.61434639798839696, 0.61384939556509655, 0.61404803829020094, 0.61359591177149642, 0.61425509963952651, 0.61422647625718552, 0.6141855000813875, 0.61470540088807779, 0.61434412439552954, 0.61437412444276795, 0.6136271266401182, 0.61317810347441026, 0.61404241400955772, 0.61414750925573591, 0.61521726931147014, 0.61505693908884396, 0.61476060571067892, 0.61433502644852711, 0.61434243903134944, 0.61397876271849328, 0.61399854528633946, 0.61379685500198644, 0.61350269019756232, 0.6137830556651549, 0.61371095343208582, 0.61401642507627852, 0.61392614833921899, 0.61447629525866598, 0.61406045668182219, 0.61396540130197674, 0.61394939900684953, 0.61423767617071134, 0.61377086834559813, 0.61429982002320949, 0.61432985129450213, 0.61441049131560965, 0.61494071429010022, 0.61446784609514904, 0.61459234067314583, 0.61484733448604045, 0.61472011853735009, 0.61484592232975677, 0.6143608653849707, 0.6138214070509298, 0.61319256483915763, 0.61331688601320777, 0.61336019305331113, 0.61374196012433857, 0.61358379104920602, 0.61325879094948954, 0.61324598111653217, 0.61335720917125314, 0.61320976602048116, 0.61321124072115707, 0.61309940644812377, 0.61288647185913636, 0.6130707351256951, 0.61308868632482916, 0.61311202210162574, 0.61374240487571041, 0.61332550291480448, 0.613055229155823, 0.61316000564023365, 0.61316617966085551, 0.61303423721608108, 0.61358919446901883, 0.61351747781157329, 0.61380509525683391, 0.61344012772771972, 0.61402399731952972, 0.61453322725602677, 0.61475862797789393, 0.61502819054975, 0.61483121669107166, 0.61443095749715249, 0.61410784381238559, 0.61432063657785396, 0.61403442063174396, 0.61417004451446899, 0.613691309701065, 0.6139004218290729, 0.61391094704295379, 0.61431662364036688, 0.61389784188159358, 0.61351373173397783, 0.61353459181698333, 0.61366506388235265, 0.61351250202193286, 0.61330824144819485, 0.61266459065512324, 0.61277520704826605, 0.61313565561958328, 0.61311737248543208, 0.6128522022747156, 0.61294221716334252, 0.61301815221495226, 0.61299162159211595, 0.61275858895638702, 0.61296686811297829, 0.61307588134298074, 0.61297489803011762, 0.61288676195368796, 0.61279729424361817, 0.61300375638448568, 0.61259041585440721, 0.61230324005520997, 0.61212825940625804, 0.61260669054356665, 0.61246059740624559, 0.61268700403839382, 0.6128302816348683, 0.61274749482593605, 0.6130020989593078, 0.61300559829185819, 0.61329689978226909, 0.61386549351086739, 0.61371608961469204, 0.6137562287475089, 0.61406444329734144, 0.61379200159146763, 0.61384299253123487, 0.61361284606564892, 0.61340074736862027, 0.61300096268356008, 0.61295972469951387, 0.61304945446269321, 0.61306907346769512, 0.61303239089519945, 0.61320888012508323, 0.61327076442081663, 0.61381440320151892, 0.61418640971539862, 0.61439032401647109, 0.61429000090639163, 0.61487053034402017, 0.61461529245710367, 0.61521998863538085, 0.61563245758960949, 0.6150672646918881, 0.61500398134765566, 0.6150489010995841, 0.6156003487457673, 0.61548222390719998, 0.61504923047490911, 0.61507223366101416, 0.6140429525942257, 0.61427937326582494, 0.61423062194195366, 0.61436122307763952, 0.61405016893585951, 0.61415140417870195, 0.61388425535907343, 0.61373215959361804, 0.61340065208750871], 'validation': [1.2320507077530454, 1.2076745963028026, 1.1810889541210965, 1.1809493313020232, 1.1811861606389549, 1.181490203520623, 1.1823618762385639, 1.1700770011828405, 1.1661760646366952, 1.1542558456136958, 1.1688542952667815, 1.1505455351911229, 1.1451392491253465, 1.1452365050429516, 1.1530225078916654, 1.1314219818237901, 1.1287570489516308, 1.1318276358814821, 1.1257364814414896, 1.1233412413440316, 1.1143518281390568, 1.1258022100566427, 1.1200943343581327, 1.1128376830616777, 1.1296015206481511, 1.1210632483388376, 1.1182658153789138, 1.1241390026115612, 1.1261682219796088, 1.1217190683543239, 1.1259053717140319, 1.1365428123049059, 1.1265856616209911, 1.123984916763924, 1.1212593431360387, 1.1234092713231811, 1.1184963207323724, 1.1106052363003409, 1.116488689019647, 1.1132955935494109, 1.1052835300885433, 1.1088276155974035, 1.1070454189647196, 1.1093523194656976, 1.1116269173711142, 1.1048275727221273, 1.0989734362098278, 1.0818950622862855, 1.0786261354549593, 1.0725263023141569, 1.0726258570102414, 1.0695180622555198, 1.0678239215677192, 1.0676688829357213, 1.0664729985886767, 1.0564129999674456, 1.0476428949592822, 1.0489819403355647, 1.0524815378608638, 1.0584740677337023, 1.0556160183639451, 1.0554357188062251, 1.0496694776828228, 1.0478661597408014, 1.0401728722938333, 1.0457006189771378, 1.0568382718482259, 1.0503138471939073, 1.0500368187978721, 1.0468716223538346, 1.0391106714276854, 1.0412254710930713, 1.0277531368379227, 1.0339219505109372, 1.0302941971619057, 1.0177078988620698, 1.0184109077287919, 1.0065167688796752, 1.0128306795344497, 1.0163804132934833, 1.0201734942390324, 1.0189280605869504, 1.0167999838590247, 1.0197942187250637, 1.0131070602302366, 1.0130826314213879, 1.0051432923564783, 1.0096476303281161, 1.0151366868914875, 1.0027715479108452, 0.98629893544430647, 0.97985260913482097, 0.97899601657500235, 0.98010086403511787, 0.98308380577664656, 0.9699859312931548, 0.96722710282488877, 0.97147971786106102, 0.97425008860013362, 0.97515140851733029, 0.97420506949926811, 0.96940131372127669, 0.96327668176306969, 0.95643284418737506, 0.95262092794263897, 0.95510881857331797, 0.96383211158912663, 0.95845475048634476, 0.95982637741785515, 0.95170006584107292, 0.95567569554319509, 0.95363729411214293, 0.95866339897880593, 0.94561290976492451, 0.94234474469731111, 0.93251611320828509, 0.93349846307843931, 0.9366878549277835, 0.9436074763693455, 0.94642792167089962, 0.94081277962112542, 0.93402335578836204, 0.9339387587539556, 0.92678962207920601, 0.92712166132502472, 0.92373883948683033, 0.93346052121663059, 0.92665054048109619, 0.92072776433313852, 0.9308949583898134, 0.93324410271296387, 0.9301970603827161, 0.92436487185768279, 0.91586940563337393, 0.91554113021615346, 0.91950347300797086, 0.91442935974375661, 0.91693860348278367, 0.92030545272541453, 0.91929067783793239, 0.91827395321475536, 0.91690728837506441, 0.92172953316508255, 0.91933893732077787, 0.92508032387309935, 0.92924250170876577, 0.92895213881876448, 0.93247313399920584, 0.92839019703161485, 0.92124208181453726, 0.91963652024858089, 0.90996078557143878, 0.91072371266447283, 0.91352770330676791, 0.91301787868162343, 0.9032041213857811, 0.90026385806657139, 0.91510218949888156, 0.91532661495102197, 0.91170215508334851, 0.90812857253689205, 0.90808925894623405, 0.90876855673840584, 0.91214494303743898, 0.91377676526532114, 0.90817630856920617, 0.91596922705590655, 0.90435786617792491, 0.90024996707643334, 0.89577360544153539, 0.89551714883805211, 0.89141769700724283, 0.89678527133477282, 0.89539241520074719, 0.89723697653851631, 0.89633227501742063, 0.89763156737470762, 0.89640831759954265, 0.89546407420000951, 0.89510014446952935, 0.8896100673783206, 0.8833425291433129, 0.89111018564914479, 0.88984681058526105, 0.88482345261792195, 0.88494846444842679, 0.88453442878556232, 0.88710979429978065, 0.88627103919951467, 0.87967012777109355, 0.87564577952573097, 0.87700057455129843, 0.87639325936146184, 0.86612632993609517, 0.86460376476696821, 0.86316966597886668, 0.86408897700536735, 0.86342183854401278, 0.85994439006931123, 0.85826457834822922, 0.85921807564788855, 0.8584301830850336, 0.85668829470860053, 0.85577232545308834, 0.85555044680278725, 0.85458745319218998, 0.85198001812605839, 0.84806892342060114, 0.845801360978086, 0.84629357449482523, 0.84495806301521148, 0.85013390487061236, 0.84907373202798808, 0.84551378550557388, 0.85190548141291789, 0.8533003950921112, 0.85362694118716476, 0.85079297340654914, 0.85476241922785301, 0.85631215641343927, 0.85100124614097616, 0.84200168087217009, 0.83847332972175781, 0.83764211578564918, 0.83735574820513137, 0.83210273128095968, 0.82888567899812227, 0.83236129376552281, 0.83157895044932106, 0.82673061645882495, 0.82455590653212663, 0.82421782250454401, 0.82710045077251992, 0.83083127423123249, 0.82842862000691631, 0.83314369721678927, 0.83417971309925776, 0.83457801628058814, 0.83960077307592684, 0.83790899288104992, 0.83508082358758762, 0.83134370708639205, 0.82489054185931976, 0.82099403319471331, 0.81968846561007547, 0.81916547967752218, 0.81826343085288755, 0.81758434886260967, 0.81364747752283217, 0.81367722536942355, 0.81071238322064876, 0.8093684968215199, 0.80750838950581894, 0.80375737058020291, 0.80291374308269592, 0.80548799392748205, 0.80474769756321696, 0.80484028778133232, 0.80395611842349091, 0.80107417822618365, 0.80302840345818882, 0.80307287170147101, 0.8050774538569262, 0.80553935004419008, 0.81001617799161507, 0.8088772543937951, 0.80728715796837458, 0.81042189241825291, 0.80845860455776042, 0.80669747032932471, 0.8049782476998415, 0.80709922574945725, 0.80758312535774168, 0.80617658809761505, 0.80519117592322387, 0.80924322830279793, 0.80781357122800312, 0.80453706182401186, 0.80342332793061455, 0.80276994180732164, 0.80292031926188279, 0.80616171870232534, 0.7999132973798293, 0.80164622289474485, 0.80165395990803401, 0.80276645527608415, 0.80328199573078618, 0.80350383746367382, 0.80420930222094145, 0.80206840275841973, 0.80385216696439332, 0.79976888107962241, 0.79836063425131987, 0.79676970508953093, 0.79914431203522562, 0.79802846657031856, 0.79672537351202155, 0.79381160055786215, 0.79506453364474416, 0.79640072348663482, 0.79466187673994959, 0.79223801295807039, 0.79309309292293462, 0.79253903217757626, 0.79432784067352535, 0.79469628216916322, 0.79497949448631322, 0.78829520707149447, 0.78856174703681714, 0.78582950202617829, 0.78762322449073885, 0.78831930579871834, 0.78885763866415415, 0.78946838827742249, 0.79060221642661321, 0.78994457376516525, 0.79336847817858669, 0.79032442703378392, 0.79089230276312228, 0.79229630910066062, 0.78963475297399599, 0.79010287806587876, 0.78610365238317059, 0.78442795429521606, 0.78599639225556417, 0.78324067082866577, 0.78316713378450686, 0.78410525375577944, 0.78406982224482991, 0.78505103064113402, 0.78454824984566185, 0.78698536845087874, 0.78633333575488662, 0.78574643765737795, 0.78424989504580656, 0.78407066299829753, 0.78557345801542011, 0.78813666816384476, 0.78805404161350179, 0.78641183656022851, 0.78648987424917671, 0.78365236272244954, 0.78415740719668381, 0.78485853847581766, 0.78388553219915924, 0.7820765894982058, 0.78011888163907894, 0.78102093729389854, 0.78036329199856458, 0.78123017517895355, 0.78190562434150523, 0.78243188717739276, 0.78047094309397669, 0.78102488634605882, 0.78559809426253147, 0.7815783873628579, 0.77899540518600674, 0.78221453021982146, 0.78046165773242426, 0.78122571251545359, 0.78261310399896444, 0.77914194330829223, 0.77845276310716727, 0.77706573599669315, 0.77821288400504673, 0.779053224446694, 0.77894677682898306, 0.77905120704722086, 0.78156434025315258, 0.7799137331439, 0.78080697819489853, 0.77823974966379872, 0.77739758504723599, 0.77803338295504398, 0.77810856297808317, 0.77937425585106823, 0.77966538499922877, 0.77800411388441171, 0.7733754888497445, 0.77359872795339679, 0.77524478196067437, 0.77325353574130218, 0.77300104210494058, 0.77632000833279879, 0.7753810370559524, 0.77624847702264788, 0.77765408317286555, 0.77596379269155524, 0.7766345681543918, 0.77578215511999848, 0.77673661274685191, 0.77651177838629526, 0.77567360954898512, 0.77553607044301842, 0.77541028641910748, 0.77755523712828911, 0.77666920887287916, 0.77398717585459542, 0.77392352103951167, 0.77272347679502851, 0.77443067896209106, 0.77640368448439623, 0.77684681458561422, 0.7774561927984589, 0.77709914348467524, 0.77678542453161281, 0.77760435841461961, 0.77650540498729737, 0.7755451843717478, 0.77387562221972406, 0.77527517564137427, 0.77641998539360646, 0.77501176599219324, 0.77594581608994606, 0.77609569161511882, 0.77755756914053853, 0.77712312037952136, 0.77707812528928488, 0.77886223420317313, 0.77911130420831842, 0.77817345198305032, 0.77855790184287499, 0.77933301201025418, 0.78018250586268068, 0.78286604059135967, 0.78365264682772484, 0.77861395338482253, 0.78131920192418469, 0.77808250253758393, 0.77770456921119546, 0.77968031131496751, 0.77605351579890558, 0.77821307604814871, 0.77797503988058481, 0.77767303017476208, 0.77537382768713436, 0.77384971087911525, 0.77470561469403065, 0.7754904406247296, 0.77598540665646198, 0.77825693929736384, 0.77856500827321284, 0.77624843235099694, 0.77938175078441907, 0.77562124201013805, 0.77612940980686174, 0.77772686735755925, 0.77976702294564004, 0.7763423828945144, 0.77591106337387195, 0.77113652587636861, 0.77316200270955904, 0.77443617847859736, 0.7761049375781669, 0.77918144932191857, 0.77833090027414409, 0.77492144195364943, 0.77333967454908492, 0.77379917014719035, 0.77248493804020257, 0.76958383013120291, 0.77221285753570768, 0.77274616559432618, 0.77200326735924574, 0.77508081965135145, 0.77412520079404978, 0.77337964501133361, 0.77145900651029553, 0.77135314323465765, 0.77208017271036533, 0.77265150419712603, 0.77032786359828387, 0.76873276646806821, 0.76862270430006574, 0.76806219815563914, 0.76907942278547969, 0.76848293480229835, 0.77038982536304845, 0.77172541501905889, 0.77162163759808056, 0.77111536875536835, 0.77204736916775296, 0.77155437687754436, 0.77220476289036999, 0.77200758858177776, 0.77154675065497491, 0.77151631778377106, 0.77069846619747739, 0.76903044072822979, 0.77026969559098002, 0.76957769002123433, 0.77069250249730603, 0.76980367756557944, 0.77043904542635477, 0.76800196749680427, 0.76659041362720315, 0.76742769327620819, 0.76683880419273598, 0.76899199045045352, 0.7673352432852607, 0.76840236273011375, 0.76911845481527774, 0.76930488773594341, 0.76721486333663402, 0.76758038657294458, 0.76721182019162448, 0.76652976059150479, 0.76809851339363411, 0.76886180547755911, 0.76887695153908409, 0.77090105454906022, 0.77269829371975907, 0.77160422705922271, 0.77258050914430398, 0.77262836570189308, 0.77036218258906153, 0.76892195329027879, 0.76706457427502783, 0.76763731148847214, 0.76806551765592479, 0.76758630403436523, 0.77041270698457098, 0.76950916387535906, 0.76985868513665834, 0.76889710948598899, 0.76859877414370092, 0.77070272500539605, 0.76891054807228743, 0.76954620129939078, 0.76748500613918946, 0.76800025737402644, 0.7664216316430027, 0.76798682714859279, 0.76771905121124362, 0.76850060164404488, 0.77071920564699492, 0.77064754517879996, 0.7707388963424775, 0.7705845210106389, 0.7703141080837369, 0.76875558212326911, 0.77054005525193492, 0.77317630092465772, 0.77170517971383124, 0.76942087664737835, 0.769475013840207, 0.77278228969066731, 0.77442767268113799, 0.77504527408229107, 0.77434430930523612, 0.77097660226898568, 0.77229165821354695, 0.77351587551330503, 0.77402246360012317, 0.77410360571993619, 0.77786877586598058, 0.77505285493323961, 0.77356119666398371, 0.77314023864366888, 0.77291984813627623, 0.77376923386244845, 0.77574959094802143, 0.77513910427530608, 0.77337367231778531, 0.7727134347197615, 0.77506666784089318, 0.77598695818107888, 0.77702379464769633, 0.77566431760824595, 0.77581144478110264, 0.77337755752052462, 0.77246086471223219, 0.7716282294753215, 0.76881146635159703, 0.76680721444357636, 0.76623932472518819, 0.7656606178331824, 0.76455113281709042, 0.76529330464590872, 0.76594949219752273, 0.7677925475598405, 0.76754494674177254, 0.76695349697477633, 0.76489246073751327, 0.76498126491949969, 0.76780626382827555, 0.76772230251336393, 0.76792149037866853, 0.76630579540190635, 0.76447395069755908, 0.76288475456513127, 0.76435128093385463, 0.7657681673463006, 0.76663157231349488, 0.76680181293685434, 0.7659540457833981, 0.76658315544383504, 0.76845523432529828, 0.76870244310705971, 0.76829149117777407, 0.76631877299707429, 0.76658108274722236, 0.76564756404303913, 0.76511080603387582, 0.76388185857596591, 0.76476808436250587, 0.76596944221242746, 0.76714282259160571, 0.76751373138008427, 0.7696455309531901, 0.76903975638040301, 0.76975143847693162, 0.76795495437758188, 0.76721909455339599, 0.76561907219023106, 0.76379434003465985, 0.76253657991388735, 0.76166092734008006, 0.76303713175399646, 0.76284201767728121, 0.76333217137055442, 0.76259729501020546, 0.76344653093430848, 0.76426260538056612, 0.76490257292040176, 0.76529457525064337, 0.76504382625403855, 0.76350167999605456, 0.76312295241225503, 0.76276898509964164, 0.76145154802253101, 0.76229170093454035, 0.76228410890809706, 0.76244943045022184, 0.76281295151729989, 0.76191518680632631, 0.7623575412329523, 0.76131242681796574, 0.76006775118332426, 0.75999160962709411, 0.76078632857913897, 0.76093899023541411, 0.76177966501798255, 0.76156752911031433, 0.76179438029489943, 0.76234994569717252, 0.76444921941828947, 0.76446481237598063, 0.76285605919479416, 0.76213260527139082, 0.76111184557674094, 0.76085781990423607, 0.75955975795205144, 0.76046756165672258, 0.76129049472167765, 0.76223878510010479, 0.76100695457182954, 0.76150340943822004, 0.76177616988362173, 0.76239247213052519, 0.76214918884714988, 0.76226443255151821, 0.76346805290199371, 0.76246279743779455, 0.76489970666812479, 0.76695578387226426, 0.76600087602425471, 0.76826054616742045, 0.76675783255740315, 0.76804990880131863, 0.7684642165163742, 0.76777395931394243, 0.76596940607935093, 0.76597160029531564, 0.76676506842956826, 0.76734725516543312, 0.76912436025997977, 0.76751856808611663, 0.76595760483407105, 0.76810577290675752, 0.76969765098565657, 0.76840201732882096, 0.76608314651447629, 0.7659086985565674, 0.76637223690785561, 0.76580129904742167, 0.76655128600100808, 0.76739234326292882, 0.76660289003706983, 0.76519356301881392, 0.76596395802946926, 0.7660627789513621, 0.76611566362194716, 0.76437819936510654, 0.76480491330711375, 0.76499909628661267, 0.76420728562927931, 0.76389297916807697, 0.76334772598777667, 0.76341378380844005, 0.76345488654340088, 0.76321699263139198, 0.76259886196991478, 0.76209725462464573, 0.76163434483284076, 0.76130596821161078, 0.76182389798849059, 0.75980252427178274, 0.76003150783396622, 0.76039735797945407, 0.76090664683240872, 0.76164796665503431, 0.76084480241675267, 0.7602270661566588, 0.75985553988401378, 0.76065951449384017, 0.76080713453505378, 0.76197650527379923, 0.76247763507012256, 0.76240586154795265, 0.76217349052542616, 0.76194145538388192, 0.76134653718195111, 0.76052979255246433, 0.76189662652048851, 0.76184729687738106, 0.7623119982758908, 0.76300274879510765, 0.7615642677209713, 0.76156317611733981, 0.76195319896788116, 0.76284688069841877, 0.76219900675543251, 0.76182263028528441, 0.76143338085445533, 0.7616544895103885, 0.76161734147699434, 0.76200846593233618, 0.76208847313788086, 0.76209994607152154, 0.76238485058886518, 0.76106883349609811, 0.7618363333958128, 0.76174766750038148, 0.76178574444080249, 0.76056055480471763, 0.76104235112301777, 0.76171364642888129, 0.76089053469359214, 0.76036631238640728, 0.75983166688381576, 0.75913742875780243, 0.75784055844925369, 0.75862511987318249, 0.75861289006502308, 0.75907719046931232, 0.75949149373290181, 0.76002461714239666, 0.76141983972235971, 0.76019299306485533, 0.7605443449355781, 0.76129040915119361, 0.76394813806017481, 0.76481306267891946, 0.76459390296703789, 0.76291231519908886, 0.7642336819337886, 0.76375019330315963, 0.76292054124292796, 0.76302515813125116, 0.76246921524338673, 0.76277856100809371, 0.76302035822305403, 0.76356436905390568, 0.76339815639876496, 0.7642006431189764, 0.76325731614771641, 0.76279215926895461, 0.76286797291132113, 0.76330186035214498, 0.76421228597275692, 0.76318345042608182, 0.76448606382439033, 0.76468652573594231, 0.76466706617035829, 0.7635641087627878, 0.76341517126298108, 0.76445805922710675, 0.76539057110630893, 0.76641217554085683, 0.76674389142394306, 0.76626177286625186, 0.76597463646700514, 0.76455506583461996, 0.76379056447139448, 0.76224276902385224, 0.76156744263242326, 0.76066536160366049, 0.76173498276758567, 0.7617150437459369, 0.76155140269046628, 0.76169738948670285, 0.76054122368558241, 0.76185405070216794, 0.76283120655016257, 0.76406865673610391, 0.7652732398770673, 0.76382104826122943, 0.76222429956492843, 0.7629499148971487, 0.76142105196855425, 0.76219130451270456, 0.7619448633322613, 0.76141294543262972, 0.76069880039360127, 0.76002049486209278, 0.75978974671904154, 0.75991876252926316, 0.75954283742336015, 0.75910835083532879, 0.7579584434632769, 0.75891597366854491, 0.75898929386236358, 0.75830655938234803, 0.7586712483419471, 0.75850219873851343, 0.75872383248347397, 0.75858166159132678, 0.75748851975395137, 0.75718488187298771, 0.75723256422609131, 0.75840962317620542, 0.75872904358435211, 0.7580885425032603, 0.75790191711375821, 0.75787411860821963, 0.75715386352823155, 0.75818712142061317, 0.75881304999644272, 0.75933472460510154, 0.75914915153515117, 0.75706411167147769, 0.75860378500126002, 0.75918700302834108, 0.75930894642804447, 0.75991119708994892, 0.76021754733400349, 0.75897694359802281, 0.75968558049995871, 0.75770855673506499, 0.75803432661398096, 0.75807530758263697, 0.75809219337790368, 0.7565514090469283, 0.75635552727270361, 0.75570082593447818, 0.75658156778104613, 0.75609974535775915, 0.75600540432163355, 0.75570433543341919, 0.75589984212553107, 0.75570972356018162, 0.75570176332262951, 0.75540830319215246, 0.75573694273590875, 0.75583787852857032, 0.75697831331595478, 0.75663996090575492, 0.75605986225917277, 0.75649520502265033, 0.75675133835017561, 0.75742538668301118, 0.75793274773603481, 0.75852237918635279, 0.75847871827073732, 0.75809762203549413, 0.75839902058014586, 0.75902222152338539, 0.75854751954541022, 0.75856057977442437, 0.75827796874253373, 0.75825693139974848, 0.75841716043927554, 0.75761063694770658, 0.75781554351604985, 0.75752977214659412, 0.75753609443352243, 0.75773393502162123, 0.75805569201017786, 0.75764107422788096, 0.75736345899818869, 0.75802467341839652, 0.75753142731418111, 0.75772353246648139, 0.75871004665445363, 0.75769030179349117, 0.75861211515348193, 0.75815837366963723, 0.75895437386746056, 0.75879768777509149, 0.75885280821146683, 0.75853046569637173, 0.75901067177391268, 0.75899696528330274, 0.75878304877610725, 0.76073297019217989, 0.75965688772574047, 0.75891602006182235, 0.75923427442984837, 0.75845077497848856, 0.75860373850765428, 0.75885799686578004, 0.75806851653848939, 0.75859800893229601, 0.75817663524677747, 0.75897975417709918, 0.75971267408139087, 0.75959091425479675, 0.75973601579728278, 0.76030858326886996, 0.75948909923601571, 0.75969933454097127, 0.75958971440955581, 0.75853390845074575, 0.7592463107977856, 0.75919740290251669, 0.76041194731701056, 0.75984957033265899, 0.75815919198400905, 0.75799277672984999, 0.75836599826234463, 0.75956217432827577, 0.75978564943011206, 0.75947909721508888, 0.75910123486761449, 0.75775793289766014, 0.75803766612453893, 0.75854658337618319, 0.7588911272959229, 0.75833835828934937, 0.75921274782663573, 0.75975525585871795, 0.75894131563337941, 0.75776741041537088, 0.75762897162116849, 0.75674190240814265, 0.7571468673873375, 0.75670849804332663, 0.75720028966243769, 0.75760207689485271, 0.75833712372368423, 0.75829640712690793, 0.7593085661972282, 0.7599830898558313, 0.76035837840651521, 0.75988073694239899, 0.75855281641060257, 0.75853310466830459, 0.75968325371078582, 0.75966306111082704, 0.76007386351198925, 0.76122830882590276, 0.76108477980146449, 0.76136452912286079, 0.76104030408752821, 0.7620272178332429, 0.76203250149475477, 0.76138937371383664, 0.75998529356640299, 0.75947840156484792, 0.75966689881622085, 0.75921384077052934, 0.75866068995033242, 0.75925913744080986, 0.75968491023760931, 0.75935638719261822, 0.75894572282676731, 0.75995797163664069, 0.75977362372591828, 0.75972245198600707, 0.76109055149887472, 0.7608598243582293, 0.76113740849265654, 0.76188966779614509, 0.76101066071164303, 0.76060444846480901, 0.76064840571583114, 0.7605425974444362, 0.76052428899336921, 0.76088859304725409, 0.76125425704198457, 0.76107532427970459, 0.75950563738217058, 0.75966020477058804, 0.76026737598636518, 0.76006952359964919, 0.76054616563625532, 0.76002596914452647, 0.75958387650352521, 0.75962077258285665]}\n"
     ]
    }
   ],
   "source": [
    "print(losses)"
   ]
  },
  {
   "cell_type": "code",
   "execution_count": null,
   "metadata": {
    "collapsed": true
   },
   "outputs": [],
   "source": []
  }
 ],
 "metadata": {
  "anaconda-cloud": {},
  "kernelspec": {
   "display_name": "Python 3",
   "language": "python",
   "name": "python3"
  },
  "language_info": {
   "codemirror_mode": {
    "name": "ipython",
    "version": 3
   },
   "file_extension": ".py",
   "mimetype": "text/x-python",
   "name": "python",
   "nbconvert_exporter": "python",
   "pygments_lexer": "ipython3",
   "version": "3.6.0"
  }
 },
 "nbformat": 4,
 "nbformat_minor": 2
}
