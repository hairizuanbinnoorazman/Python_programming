{
 "cells": [
  {
   "cell_type": "markdown",
   "metadata": {},
   "source": [
    "# Recommendation Engine with Tensorflow\n",
    "\n",
    "Recommendation systems are systems that try their best to match user with the most relevant items. Most commonly used in probably Netflix (Movies/Videos to watch), Youtube. This is done by understanding the user information and try to link common topics back to user based on what they have done in the past.\n",
    "\n",
    "\n",
    "## Types of Recommender Systems\n",
    "\n",
    "Some approaches of how to recommend:\n",
    "\n",
    "- Content Based recommendations: Analyzes content of item and user profile\n",
    "- Collaborative filtering/recommendation: Analyze similar users and recommend same items to user. User interactions is king\n",
    "- Hybrid systems may be the best way of doing recommendations\n",
    "\n",
    "## Challenges\n",
    "\n",
    "- Cold start problem (Don't have enough data to recommend anything to anyone)\n",
    "- What if there no simiar user profiles?\n",
    "- What happen when similar user profiles do not like the same content?\n",
    "- Different user same account?\n",
    "\n",
    "## Why tensorflow?\n",
    "\n",
    "- \n",
    "\n",
    "\n",
    "## References\n",
    "\n",
    "svd is singular value decomposition\n",
    "\n",
    "Embeddingss in tensorflow\n",
    "https://www.tensorflow.org/tutorials/word2vec/\n"
   ]
  },
  {
   "cell_type": "code",
   "execution_count": null,
   "metadata": {
    "collapsed": true
   },
   "outputs": [],
   "source": []
  }
 ],
 "metadata": {
  "kernelspec": {
   "display_name": "Python 3",
   "language": "python",
   "name": "python3"
  },
  "language_info": {
   "codemirror_mode": {
    "name": "ipython",
    "version": 3
   },
   "file_extension": ".py",
   "mimetype": "text/x-python",
   "name": "python",
   "nbconvert_exporter": "python",
   "pygments_lexer": "ipython3",
   "version": "3.5.2"
  },
  "widgets": {
   "state": {},
   "version": "1.1.2"
  }
 },
 "nbformat": 4,
 "nbformat_minor": 2
}
