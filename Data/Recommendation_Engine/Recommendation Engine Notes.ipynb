{
 "cells": [
  {
   "cell_type": "markdown",
   "metadata": {},
   "source": [
    "# Recommendation Engine with Tensorflow\n",
    "\n",
    "Recommendation systems are systems that try their best to match user with the most relevant items. Most commonly used in probably Netflix (Movies/Videos to watch), Youtube. This is done by understanding the user information and try to link common topics back to user based on what they have done in the past.\n",
    "\n",
    "Some approaches to recommend:\n",
    "\n",
    "- Content Based recommendations: Analyzes content of item and user profile\n",
    "- Collaborative filtering/recommendation\n",
    "\n",
    "## Types of Recommender Systems\n"
   ]
  },
  {
   "cell_type": "code",
   "execution_count": null,
   "metadata": {
    "collapsed": true
   },
   "outputs": [],
   "source": []
  }
 ],
 "metadata": {
  "kernelspec": {
   "display_name": "Python 3",
   "language": "python",
   "name": "python3"
  },
  "language_info": {
   "codemirror_mode": {
    "name": "ipython",
    "version": 3
   },
   "file_extension": ".py",
   "mimetype": "text/x-python",
   "name": "python",
   "nbconvert_exporter": "python",
   "pygments_lexer": "ipython3",
   "version": "3.5.2"
  },
  "widgets": {
   "state": {},
   "version": "1.1.2"
  }
 },
 "nbformat": 4,
 "nbformat_minor": 2
}
